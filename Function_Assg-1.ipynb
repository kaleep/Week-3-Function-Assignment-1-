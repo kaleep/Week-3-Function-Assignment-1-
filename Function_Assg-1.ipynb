{
 "cells": [
  {
   "cell_type": "markdown",
   "id": "259fc506-5d94-4e2f-a23d-e15b0a654393",
   "metadata": {},
   "source": [
    "1. The keyword used to create a function in most programming languages is typically \"def\" (short for define). Here's an example of how you can create a function in Python to return a list of odd numbers in the range of 1 to 25:"
   ]
  },
  {
   "cell_type": "code",
   "execution_count": 1,
   "id": "45dd648c-f59c-42ef-8f12-2e92e79c1651",
   "metadata": {},
   "outputs": [
    {
     "name": "stdout",
     "output_type": "stream",
     "text": [
      "[1, 3, 5, 7, 9, 11, 13, 15, 17, 19, 21, 23, 25]\n"
     ]
    }
   ],
   "source": [
    "def get_odd_numbers():\n",
    "    odd_numbers = []\n",
    "    for num in range(1, 26):\n",
    "        if num % 2 != 0:\n",
    "            odd_numbers.append(num)\n",
    "    return odd_numbers\n",
    "\n",
    "# Call the function and print the result\n",
    "print(get_odd_numbers())"
   ]
  },
  {
   "cell_type": "markdown",
   "id": "c70b5889-fae7-4d5e-bf91-29e605767ccf",
   "metadata": {},
   "source": [
    "2. Both args and *kwargs are useful when you want to create functions with flexible argument lists. args handles non-keyworded arguments, while *kwargs handles keyworded arguments. You can also use them together in the same function signature if needed."
   ]
  },
  {
   "cell_type": "code",
   "execution_count": 6,
   "id": "2c64c7b8-0e55-4f7c-93e6-7a42a4e23361",
   "metadata": {},
   "outputs": [
    {
     "name": "stdout",
     "output_type": "stream",
     "text": [
      "1\n",
      "2\n",
      "3\n",
      "Hello\n",
      "World\n"
     ]
    }
   ],
   "source": [
    "#Question-2\n",
    "def print_args(*args):\n",
    "    for arg in args:\n",
    "        print(arg)\n",
    "\n",
    "print_args(1, 2, 3) \n",
    "print_args('Hello', 'World')  "
   ]
  },
  {
   "cell_type": "code",
   "execution_count": 7,
   "id": "6c79a478-9be6-4a35-bffd-062027ef326c",
   "metadata": {},
   "outputs": [
    {
     "name": "stdout",
     "output_type": "stream",
     "text": [
      "name Alice\n",
      "age 25\n",
      "country USA\n",
      "city New York\n"
     ]
    }
   ],
   "source": [
    "def print_kwargs(**kwargs):\n",
    "    for key, value in kwargs.items():\n",
    "        print(key, value)\n",
    "\n",
    "print_kwargs(name='Alice', age=25)  \n",
    "print_kwargs(country='USA', city='New York')"
   ]
  },
  {
   "cell_type": "markdown",
   "id": "684235f8-e112-48c8-82fd-d57e7d3b49cd",
   "metadata": {},
   "source": [
    "Q.3 What is an iterator in python? Name the method used to initialise the iterator object and the method\n",
    "used for iteration. Use these methods to print the first five elements of the given list [2, 4, 6, 8, 10, 12, 14,\n",
    "16, 18, 20].\n",
    "\n",
    "Ans: In Python, an iterator is an object that allows iteration over a sequence of elements. It provides a way to access the elements of a container (like a list or a tuple) one at a time, without needing to know the internal implementation details of the container.\n",
    "To work with iterators in Python, you can use the built-in functions iter() and next(). Here's how you can use these methods to print the first five elements of the given list [2, 4, 6, 8, 10, 12, 14, 16, 18, 20]:"
   ]
  },
  {
   "cell_type": "code",
   "execution_count": 9,
   "id": "7f1e562d-f43b-4413-a8a0-16675651e1a6",
   "metadata": {},
   "outputs": [
    {
     "name": "stdout",
     "output_type": "stream",
     "text": [
      "2 4 6 8 10 "
     ]
    }
   ],
   "source": [
    "#Question-3\n",
    "my_list = [2, 4, 6, 8, 10, 12, 14, 16, 18, 20]\n",
    "\n",
    "# Initialize the iterator object\n",
    "my_iterator = iter(my_list)\n",
    "\n",
    "# Iterate using the iterator\n",
    "for i in range(5):\n",
    "    element = next(my_iterator)\n",
    "    print(element, end=' ')"
   ]
  },
  {
   "cell_type": "markdown",
   "id": "caefc1a5-6874-438b-8b4f-a4cbd8cbda7f",
   "metadata": {},
   "source": [
    "4. What is a generator function in python? Why yield keyword is used? Give an example of a generator\n",
    "function.\n",
    "\n",
    "Ans: In Python, a generator function is a special type of function that generates a sequence of values instead of returning a single value. It uses the yield keyword to pause the execution of the function and yield a value to the caller. The function can later be resumed from where it left off, allowing it to produce a series of values over time.\n",
    "The yield keyword is used in a generator function to define the points at which the function will yield a value. When the function encounters a yield statement, it temporarily suspends its execution and returns the yielded value. The state of the function is saved, allowing it to be resumed later. This is different from a regular function, which would return a value and terminate its execution."
   ]
  },
  {
   "cell_type": "code",
   "execution_count": 10,
   "id": "1869ddd6-9fb5-40ce-83c8-87fdf8645124",
   "metadata": {},
   "outputs": [
    {
     "name": "stdout",
     "output_type": "stream",
     "text": [
      "0 2 4 6 8 "
     ]
    }
   ],
   "source": [
    "#Question-4\n",
    "def even_numbers(n):\n",
    "    for i in range(n):\n",
    "        if i % 2 == 0:\n",
    "            yield i\n",
    "\n",
    "# Using the generator function\n",
    "generator = even_numbers(10)\n",
    "for num in generator:\n",
    "    print(num, end=' ')"
   ]
  },
  {
   "cell_type": "markdown",
   "id": "9e49b40c-1724-480e-95c1-6e9236834a60",
   "metadata": {},
   "source": [
    "5. Create a generator function for prime numbers less than 1000. Use the next() method to print the\n",
    "first 20 prime numbers."
   ]
  },
  {
   "cell_type": "code",
   "execution_count": 11,
   "id": "d587bee0-8c2a-4896-8d33-a4dcdc4406e4",
   "metadata": {},
   "outputs": [
    {
     "name": "stdout",
     "output_type": "stream",
     "text": [
      "2  3  5  7  11  13  17  19  23  29  31  37  41  43  47  53  59  61  67  71  "
     ]
    }
   ],
   "source": [
    "#Question-5\n",
    "def prime_generator():\n",
    "    primes = []\n",
    "    num = 2\n",
    "    while True:\n",
    "        if all(num % p != 0 for p in primes):\n",
    "            primes.append(num)\n",
    "            yield num\n",
    "        num += 1\n",
    "\n",
    "# Using the generator function\n",
    "generator = prime_generator()\n",
    "for _ in range(20):\n",
    "    prime = next(generator)\n",
    "    print(prime, end='  ')"
   ]
  },
  {
   "cell_type": "markdown",
   "id": "bb2a2212-0324-4b30-8ca7-fe0d676c788c",
   "metadata": {},
   "source": [
    "6. Write a python program to print the first 10 Fibonacci numbers using a while loop."
   ]
  },
  {
   "cell_type": "code",
   "execution_count": 12,
   "id": "aca17036-b003-472e-8943-6c3cc5ace838",
   "metadata": {},
   "outputs": [
    {
     "name": "stdout",
     "output_type": "stream",
     "text": [
      "0 1 1 2 3 5 8 13 21 34 "
     ]
    }
   ],
   "source": [
    "#Question-6\n",
    "def fib ():\n",
    "    a,b,n=0,1,1\n",
    "    while n<11:\n",
    "        yield a\n",
    "        a,b = b, a+b\n",
    "        n+=1\n",
    "        \n",
    "series = fib()\n",
    "\n",
    "for i in range (10):\n",
    "    print (next (series), end=' ')"
   ]
  },
  {
   "cell_type": "markdown",
   "id": "3555ccd1-36f2-4340-8a2d-2652bd5a8bee",
   "metadata": {},
   "source": [
    "7. Write a List Comprehension to iterate through the given string: ‘pwskills’.\n",
    "Expected output: ['p', 'w', 's', 'k', 'i', 'l', 'l', 's']"
   ]
  },
  {
   "cell_type": "code",
   "execution_count": 13,
   "id": "45543239-f85c-41b8-9f6c-7a82bba7898b",
   "metadata": {},
   "outputs": [
    {
     "name": "stdout",
     "output_type": "stream",
     "text": [
      "['p', 'w', 's', 'k', 'i', 'l', 'l', 's']\n"
     ]
    }
   ],
   "source": [
    "#Question-7\n",
    "string = 'pwskills'\n",
    "characters = [char for char in string]\n",
    "print(characters)"
   ]
  },
  {
   "cell_type": "markdown",
   "id": "665af0b5-6369-4c40-8727-e0eb9297e1bf",
   "metadata": {},
   "source": [
    "8. Write a python program to check whether a given number is Palindrome or not using a while loop."
   ]
  },
  {
   "cell_type": "code",
   "execution_count": 14,
   "id": "4d381678-fa4e-4315-9988-17dd9da36862",
   "metadata": {},
   "outputs": [
    {
     "name": "stdin",
     "output_type": "stream",
     "text": [
      "Enter a number:  121\n"
     ]
    },
    {
     "name": "stdout",
     "output_type": "stream",
     "text": [
      "121 is a palindrome.\n"
     ]
    }
   ],
   "source": [
    "#Question-8\n",
    "def is_palindrome(number):\n",
    "    original_number = number\n",
    "    \n",
    "    reverse_number = 0\n",
    "    while number > 0:\n",
    "        last_digit = number % 10\n",
    "        \n",
    "        reverse_number = (reverse_number * 10) + last_digit\n",
    "        \n",
    "        number //= 10\n",
    "    \n",
    "    if original_number == reverse_number:\n",
    "        return True\n",
    "    else:\n",
    "        return False\n",
    "\n",
    "num = int(input(\"Enter a number: \"))\n",
    "if is_palindrome(num):\n",
    "    print(num, \"is a palindrome.\")\n",
    "else:\n",
    "    print(num, \"is not a palindrome.\")"
   ]
  },
  {
   "cell_type": "markdown",
   "id": "7fedc3bc-8141-4efe-90e1-cbc890924521",
   "metadata": {},
   "source": [
    "9. Write a code to print odd numbers from 1 to 100 using list comprehension.\n",
    "Note: Use a list comprehension to create a list from 1 to 100 and use another List comprehension to filter\n",
    "out odd numbers."
   ]
  },
  {
   "cell_type": "code",
   "execution_count": 15,
   "id": "6fb95032-9ce0-40f6-8017-6990b948f962",
   "metadata": {},
   "outputs": [
    {
     "name": "stdout",
     "output_type": "stream",
     "text": [
      "[1, 2, 3, 4, 5, 6, 7, 8, 9, 10, 11, 12, 13, 14, 15, 16, 17, 18, 19, 20, 21, 22, 23, 24, 25, 26, 27, 28, 29, 30, 31, 32, 33, 34, 35, 36, 37, 38, 39, 40, 41, 42, 43, 44, 45, 46, 47, 48, 49, 50, 51, 52, 53, 54, 55, 56, 57, 58, 59, 60, 61, 62, 63, 64, 65, 66, 67, 68, 69, 70, 71, 72, 73, 74, 75, 76, 77, 78, 79, 80, 81, 82, 83, 84, 85, 86, 87, 88, 89, 90, 91, 92, 93, 94, 95, 96, 97, 98, 99, 100]\n",
      "[1, 3, 5, 7, 9, 11, 13, 15, 17, 19, 21, 23, 25, 27, 29, 31, 33, 35, 37, 39, 41, 43, 45, 47, 49, 51, 53, 55, 57, 59, 61, 63, 65, 67, 69, 71, 73, 75, 77, 79, 81, 83, 85, 87, 89, 91, 93, 95, 97, 99]\n"
     ]
    }
   ],
   "source": [
    "#Question-9\n",
    "L1 = [x for x in range(1, 101)]\n",
    "print (L1)\n",
    "\n",
    "print (list (filter(lambda x: x%2 !=0, L1)))"
   ]
  },
  {
   "cell_type": "code",
   "execution_count": null,
   "id": "a72c46ad-0eb7-48dc-acc8-4b1f98d1c889",
   "metadata": {},
   "outputs": [],
   "source": []
  }
 ],
 "metadata": {
  "kernelspec": {
   "display_name": "Python 3 (ipykernel)",
   "language": "python",
   "name": "python3"
  },
  "language_info": {
   "codemirror_mode": {
    "name": "ipython",
    "version": 3
   },
   "file_extension": ".py",
   "mimetype": "text/x-python",
   "name": "python",
   "nbconvert_exporter": "python",
   "pygments_lexer": "ipython3",
   "version": "3.10.8"
  }
 },
 "nbformat": 4,
 "nbformat_minor": 5
}
